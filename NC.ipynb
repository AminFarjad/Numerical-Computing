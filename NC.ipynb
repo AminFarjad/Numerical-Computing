{
 "cells": [
  {
   "cell_type": "code",
   "execution_count": 15,
   "id": "1de1821a",
   "metadata": {},
   "outputs": [],
   "source": [
    "#write dot and cross product in python class"
   ]
  },
  {
   "cell_type": "code",
   "execution_count": 6,
   "id": "820c44a2",
   "metadata": {
    "tags": []
   },
   "outputs": [],
   "source": [
    "class vector:\n",
    "    \n",
    "    def __init__(self, x = 0, y = 0):\n",
    "        self.x=x\n",
    "        self.y=y\n",
    "    \n",
    "    def add(self, b):\n",
    "        c = vector()\n",
    "        c.x = self.x + b.x\n",
    "        c.y = self.y + b.y\n",
    "        return c\n",
    "    \n",
    "    def dot_product(self, b):\n",
    "        return self.x * b.x + self.y * b.y\n",
    "    \n",
    "    def cross_product(self, b):\n",
    "        return str(self.x * b.y - self.y * b.x) + 'k'\n",
    "    \n",
    "    def __str__(self):\n",
    "        return \"[{}, {}]\".format(self.x, self.y)"
   ]
  },
  {
   "cell_type": "code",
   "execution_count": 7,
   "id": "87b6f5e1",
   "metadata": {
    "tags": []
   },
   "outputs": [
    {
     "name": "stdout",
     "output_type": "stream",
     "text": [
      "[6, 4]\n",
      "11\n",
      "-10k\n"
     ]
    }
   ],
   "source": [
    "a = vector(2,3)\n",
    "b = vector(4,1)\n",
    "print(a.add(b))\n",
    "print(a.dot_product(b))\n",
    "print(a.cross_product(b))"
   ]
  },
  {
   "cell_type": "code",
   "execution_count": 8,
   "id": "714ba371",
   "metadata": {
    "tags": []
   },
   "outputs": [],
   "source": [
    "class Matrix:\n",
    "    def __init__(self,dim,val):\n",
    "        self.rows = dim[0]\n",
    "        self.cols = dim[1]\n",
    "        self.M = [ [val] * self.cols for i in range(self.rows)]\n",
    "        \n",
    "    def __str__(self):\n",
    "        temp = ''\n",
    "        \n",
    "        for i in self.M:\n",
    "            for j in i:\n",
    "                temp += str(j)\n",
    "                temp += '\\t'\n",
    "            temp += '\\n'\n",
    "            \n",
    "        return temp\n",
    "        "
   ]
  },
  {
   "cell_type": "code",
   "execution_count": 9,
   "id": "075ff400",
   "metadata": {
    "tags": []
   },
   "outputs": [
    {
     "name": "stdout",
     "output_type": "stream",
     "text": [
      "10.0\t10.0\t10.0\t\n",
      "10.0\t10.0\t10.0\t\n",
      "10.0\t10.0\t10.0\t\n",
      "\n"
     ]
    }
   ],
   "source": [
    "m = Matrix((3,3),10.0)\n",
    "print(m)"
   ]
  },
  {
   "cell_type": "code",
   "execution_count": 10,
   "id": "f4650339",
   "metadata": {
    "tags": []
   },
   "outputs": [],
   "source": [
    "def set_val(self, dim, val):\n",
    "    self.M[dim[0]][dim[1]] = val\n",
    "\n",
    "def get_val(self, dim):\n",
    "    if dim[0] >= self.rows:\n",
    "        return 'index out of range'\n",
    "    elif dim[1] >= self.cols:\n",
    "        return 'index out of range'\n",
    "    else:\n",
    "        return self.M[dim[0]][dim[1]]\n",
    "\n",
    "Matrix.set_val = set_val\n",
    "Matrix.get_val = get_val"
   ]
  },
  {
   "cell_type": "code",
   "execution_count": 11,
   "id": "2072152e",
   "metadata": {
    "tags": []
   },
   "outputs": [
    {
     "name": "stdout",
     "output_type": "stream",
     "text": [
      "10.0\t10.0\t10.0\t\n",
      "10.0\t10.0\t10.0\t\n",
      "10.0\t10.0\t10.0\t\n",
      "\n",
      "10.0\t10.0\t10.0\t\n",
      "10.0\t10.0\t10.0\t\n",
      "90.9\t10.0\t10.0\t\n",
      "\n",
      "10.0\n"
     ]
    }
   ],
   "source": [
    "print(m)\n",
    "m.set_val((2,0),90.9)\n",
    "print(m)\n",
    "print(m.get_val((2,2)))"
   ]
  },
  {
   "cell_type": "code",
   "execution_count": 12,
   "id": "67846d53",
   "metadata": {
    "tags": []
   },
   "outputs": [],
   "source": [
    "from collections import defaultdict"
   ]
  },
  {
   "cell_type": "code",
   "execution_count": 13,
   "id": "f80c2a9f",
   "metadata": {
    "tags": []
   },
   "outputs": [
    {
     "name": "stdout",
     "output_type": "stream",
     "text": [
      "Requirement already satisfied: pympler in /home/amin/anaconda3/lib/python3.11/site-packages (1.0.1)\n"
     ]
    }
   ],
   "source": [
    "!pip install pympler"
   ]
  },
  {
   "cell_type": "code",
   "execution_count": 14,
   "id": "5be170a3",
   "metadata": {
    "tags": []
   },
   "outputs": [
    {
     "data": {
      "text/plain": [
       "928"
      ]
     },
     "execution_count": 14,
     "metadata": {},
     "output_type": "execute_result"
    }
   ],
   "source": [
    "from pympler.asizeof import asizeof\n",
    "asizeof(m)"
   ]
  },
  {
   "cell_type": "code",
   "execution_count": 17,
   "id": "48114af4",
   "metadata": {
    "tags": []
   },
   "outputs": [],
   "source": [
    "class Matrix:\n",
    "        def __init__(self, dim, val):\n",
    "            self.rows = dim[0]\n",
    "            self.cols = dim[1]\n",
    "            self.val = val\n",
    "            self.M = {}\n",
    "        def set_val(self, dim, val):\n",
    "            if dim[0] >= self.rows:\n",
    "                print('index out of range')\n",
    "            elif dim[1] >= self.cols:\n",
    "                print('index out of range')\n",
    "            else:\n",
    "                self.M[dim] = val\n",
    "                \n",
    "        def get_val(self, dim):\n",
    "            if dim[0] >= self.rows:\n",
    "                return 'index out of range'\n",
    "            elif dim[1] >= self.cols:\n",
    "                return 'index out of range'\n",
    "            elif dim in self.M:\n",
    "                return self.M[dim]\n",
    "            else:\n",
    "                return self.val\n",
    "            "
   ]
  },
  {
   "cell_type": "code",
   "execution_count": 18,
   "id": "2b4ccfb1",
   "metadata": {
    "tags": []
   },
   "outputs": [],
   "source": [
    "m = Matrix((4,4),8.8)"
   ]
  },
  {
   "cell_type": "code",
   "execution_count": 19,
   "id": "b3fb2d37",
   "metadata": {
    "tags": []
   },
   "outputs": [
    {
     "name": "stdout",
     "output_type": "stream",
     "text": [
      "8.8\n"
     ]
    }
   ],
   "source": [
    "print(m.get_val((0,3)))"
   ]
  },
  {
   "cell_type": "code",
   "execution_count": 20,
   "id": "e926efee",
   "metadata": {
    "tags": []
   },
   "outputs": [],
   "source": [
    "m.set_val((0,3),6.65)"
   ]
  },
  {
   "cell_type": "code",
   "execution_count": 21,
   "id": "ed3e77f0",
   "metadata": {
    "tags": []
   },
   "outputs": [
    {
     "name": "stdout",
     "output_type": "stream",
     "text": [
      "6.65\n"
     ]
    }
   ],
   "source": [
    "print(m.get_val((0,3)))"
   ]
  },
  {
   "cell_type": "code",
   "execution_count": 22,
   "id": "31fa57f3",
   "metadata": {
    "tags": []
   },
   "outputs": [
    {
     "name": "stdout",
     "output_type": "stream",
     "text": [
      "{(0, 3): 6.65}\n"
     ]
    }
   ],
   "source": [
    "print(m.M)"
   ]
  },
  {
   "cell_type": "code",
   "execution_count": 23,
   "id": "a28448d0",
   "metadata": {
    "tags": []
   },
   "outputs": [],
   "source": [
    "import numpy as np"
   ]
  },
  {
   "cell_type": "code",
   "execution_count": 24,
   "id": "2a936c9a",
   "metadata": {
    "tags": []
   },
   "outputs": [],
   "source": [
    "y = np.array([[[1, 2, 3],[4, 5, 6]],[[7,8,9],[10,11,12]]])"
   ]
  },
  {
   "cell_type": "code",
   "execution_count": 25,
   "id": "3c2f8a69",
   "metadata": {
    "tags": []
   },
   "outputs": [
    {
     "data": {
      "text/plain": [
       "array([1, 4])"
      ]
     },
     "execution_count": 25,
     "metadata": {},
     "output_type": "execute_result"
    }
   ],
   "source": [
    "y[0][:, 0]"
   ]
  },
  {
   "cell_type": "code",
   "execution_count": 26,
   "id": "ed5a3c44",
   "metadata": {
    "tags": []
   },
   "outputs": [
    {
     "data": {
      "text/plain": [
       "(2, 2, 3)"
      ]
     },
     "execution_count": 26,
     "metadata": {},
     "output_type": "execute_result"
    }
   ],
   "source": [
    "y.shape"
   ]
  },
  {
   "cell_type": "code",
   "execution_count": 27,
   "id": "0418b3be",
   "metadata": {
    "tags": []
   },
   "outputs": [],
   "source": [
    "import numpy as np"
   ]
  },
  {
   "cell_type": "code",
   "execution_count": 28,
   "id": "a8f0fa6f",
   "metadata": {
    "tags": []
   },
   "outputs": [
    {
     "data": {
      "text/plain": [
       "array([[ 5,  7,  9],\n",
       "       [-5,  7,  9]])"
      ]
     },
     "execution_count": 28,
     "metadata": {},
     "output_type": "execute_result"
    }
   ],
   "source": [
    "x = np.array([[[1,2,3],[4,5,6]],[[-1,2,3],[-4,5,6]]])\n",
    "\n",
    "x.sum(axis=1)"
   ]
  },
  {
   "cell_type": "code",
   "execution_count": 29,
   "id": "189a9d42",
   "metadata": {
    "tags": []
   },
   "outputs": [
    {
     "data": {
      "text/plain": [
       "1.7763568394002505e-15"
      ]
     },
     "execution_count": 29,
     "metadata": {},
     "output_type": "execute_result"
    }
   ],
   "source": [
    "np.spacing(15.0)"
   ]
  },
  {
   "cell_type": "code",
   "execution_count": 30,
   "id": "cad945cf",
   "metadata": {
    "tags": []
   },
   "outputs": [],
   "source": [
    "from collections import defaultdict"
   ]
  },
  {
   "cell_type": "code",
   "execution_count": 48,
   "id": "d06edfd3",
   "metadata": {
    "tags": []
   },
   "outputs": [
    {
     "data": {
      "text/plain": [
       "84"
      ]
     },
     "execution_count": 48,
     "metadata": {},
     "output_type": "execute_result"
    }
   ],
   "source": [
    "x,y = 3,7\n",
    "sum([x*y for i in range(4)])"
   ]
  },
  {
   "cell_type": "code",
   "execution_count": 49,
   "id": "4cac3362",
   "metadata": {
    "tags": []
   },
   "outputs": [],
   "source": [
    "class Matrix:\n",
    "        def __init__(self, dim, val):\n",
    "            self.rows = dim[0]\n",
    "            self.cols = dim[1]\n",
    "            self.val = val\n",
    "            self.M = defaultdict(lambda:self.val)\n",
    "        def set_val(self, dim, val):\n",
    "            if dim[0] >= self.rows:\n",
    "                print('index out of range')\n",
    "            elif dim[1] >= self.cols:\n",
    "                print('index out of range')\n",
    "            else:\n",
    "                self.M[dim] = val\n",
    "        def add(self,b):\n",
    "            if self.rows != b.rows or self.cols != b.cols:\n",
    "                print(\"dimensions mismatch\")\n",
    "                return self\n",
    "            else:\n",
    "                c = Matrix((self.rows,self.cols),self.val + b.val)\n",
    "                for key in self.M.keys():\n",
    "                    c.M[key] = self.M[key] + b.M[key]\n",
    "                for key in b.M.keys():\n",
    "                    c.M[key] = self.M[key] + b.M[key]\n",
    "                return c\n",
    "        def get_val(self, dim):\n",
    "            if dim[0] >= self.rows:\n",
    "                return 'index out of range'\n",
    "            elif dim[1] >= self.cols:\n",
    "                return 'index out of range'\n",
    "            elif dim in self.M:\n",
    "                return self.M[dim]\n",
    "            else:\n",
    "                return self.val\n",
    "        def mul_scalar(self,val):\n",
    "            c = Matrix((self.rows,self.cols),self.val)\n",
    "            c.val = c.val * val\n",
    "            for key in self.M.keys():\n",
    "                c.M[key] = self.M[key] * val\n",
    "            return c\n",
    "        def mul(self,ma):\n",
    "            if self.cols != ma.rows:\n",
    "                print(\"dimensions mismatch\")\n",
    "                return self\n",
    "            else:\n",
    "                c = Matrix((self.rows,ma.cols),sum([self.val * ma.val for i in range(self.cols)]))\n",
    "                for m in range(self.rows):      \n",
    "                    for n in range(ma.cols):\n",
    "                        temp = 0\n",
    "                        for o in range(ma.rows):\n",
    "                            temp += self.M[(m,o)] * ma.M[(o,n)]\n",
    "                        if temp != c.val:\n",
    "                            c.M[(m,n)] = temp\n",
    "                return c\n",
    "        def __str__(self):\n",
    "            temp = ''\n",
    "        \n",
    "            for i in range(self.rows):\n",
    "                for j in range(self.cols):\n",
    "                    temp += str(self.M[(i,j)])\n",
    "                    temp += '\\t'\n",
    "                temp += '\\n'\n",
    "            \n",
    "            return temp"
   ]
  },
  {
   "cell_type": "code",
   "execution_count": 51,
   "id": "6f16f48b",
   "metadata": {
    "tags": []
   },
   "outputs": [
    {
     "name": "stdout",
     "output_type": "stream",
     "text": [
      "36.355000000000004\t\n",
      "38.720000000000006\t\n",
      "38.720000000000006\t\n",
      "38.720000000000006\t\n",
      "\n"
     ]
    }
   ],
   "source": [
    "\n",
    "m = Matrix((4,4),8.8)\n",
    "n = Matrix((4,1),1.1)\n",
    "m.set_val((0,3),6.65)\n",
    "print(m.mul(n))\n"
   ]
  },
  {
   "cell_type": "code",
   "execution_count": 33,
   "id": "aa26a6d7",
   "metadata": {
    "tags": []
   },
   "outputs": [],
   "source": [
    "a = np.zeros((2,2))"
   ]
  },
  {
   "cell_type": "code",
   "execution_count": 34,
   "id": "23d71a8e",
   "metadata": {
    "tags": []
   },
   "outputs": [
    {
     "data": {
      "text/plain": [
       "array([[6., 6.],\n",
       "       [0., 0.]])"
      ]
     },
     "execution_count": 34,
     "metadata": {},
     "output_type": "execute_result"
    }
   ],
   "source": [
    "a[0:1]=6\n",
    "a\n"
   ]
  },
  {
   "cell_type": "code",
   "execution_count": 35,
   "id": "71b34994",
   "metadata": {
    "tags": []
   },
   "outputs": [
    {
     "data": {
      "text/plain": [
       "array([6., 6.])"
      ]
     },
     "execution_count": 35,
     "metadata": {},
     "output_type": "execute_result"
    }
   ],
   "source": [
    "sum(a)"
   ]
  },
  {
   "cell_type": "code",
   "execution_count": 36,
   "id": "bd6c45ea",
   "metadata": {
    "tags": []
   },
   "outputs": [
    {
     "data": {
      "text/plain": [
       "12.0"
      ]
     },
     "execution_count": 36,
     "metadata": {},
     "output_type": "execute_result"
    }
   ],
   "source": [
    "a.sum()"
   ]
  },
  {
   "cell_type": "code",
   "execution_count": 37,
   "id": "bc635ab1",
   "metadata": {
    "tags": []
   },
   "outputs": [
    {
     "name": "stdout",
     "output_type": "stream",
     "text": [
      "[ 1  2 34  5]\n"
     ]
    }
   ],
   "source": [
    "a = np.array([1,2,34,5])\n",
    "print(a)"
   ]
  },
  {
   "cell_type": "code",
   "execution_count": 38,
   "id": "43dd441e",
   "metadata": {
    "tags": []
   },
   "outputs": [],
   "source": [
    "def p(a):\n",
    "    print('a')\n",
    "    return a*2"
   ]
  },
  {
   "cell_type": "code",
   "execution_count": 39,
   "id": "f16f9516",
   "metadata": {
    "tags": []
   },
   "outputs": [
    {
     "name": "stdout",
     "output_type": "stream",
     "text": [
      "a\n",
      "[ 2  4 68 10]\n"
     ]
    }
   ],
   "source": [
    "print(p(a))"
   ]
  },
  {
   "cell_type": "code",
   "execution_count": 40,
   "id": "ca6bc953",
   "metadata": {
    "tags": []
   },
   "outputs": [],
   "source": [
    "import sys"
   ]
  },
  {
   "cell_type": "code",
   "execution_count": 41,
   "id": "a328634f",
   "metadata": {
    "tags": []
   },
   "outputs": [
    {
     "data": {
      "text/plain": [
       "sys.float_info(max=1.7976931348623157e+308, max_exp=1024, max_10_exp=308, min=2.2250738585072014e-308, min_exp=-1021, min_10_exp=-307, dig=15, mant_dig=53, epsilon=2.220446049250313e-16, radix=2, rounds=1)"
      ]
     },
     "execution_count": 41,
     "metadata": {},
     "output_type": "execute_result"
    }
   ],
   "source": [
    "sys.float_info"
   ]
  },
  {
   "cell_type": "code",
   "execution_count": 42,
   "id": "cdefd745",
   "metadata": {
    "tags": []
   },
   "outputs": [],
   "source": [
    "num = 1e9"
   ]
  },
  {
   "cell_type": "code",
   "execution_count": 43,
   "id": "bb8c61df",
   "metadata": {
    "tags": []
   },
   "outputs": [
    {
     "name": "stdout",
     "output_type": "stream",
     "text": [
      "1000000000.0\n"
     ]
    }
   ],
   "source": [
    "print(num)"
   ]
  },
  {
   "cell_type": "code",
   "execution_count": 44,
   "id": "2ffc1525",
   "metadata": {
    "tags": []
   },
   "outputs": [
    {
     "data": {
      "text/plain": [
       "False"
      ]
     },
     "execution_count": 44,
     "metadata": {},
     "output_type": "execute_result"
    }
   ],
   "source": [
    "num == num + np.spacing(num)"
   ]
  },
  {
   "cell_type": "code",
   "execution_count": 45,
   "id": "6c6129e0",
   "metadata": {
    "tags": []
   },
   "outputs": [
    {
     "data": {
      "text/plain": [
       "True"
      ]
     },
     "execution_count": 45,
     "metadata": {},
     "output_type": "execute_result"
    }
   ],
   "source": [
    "num == num + np.spacing(num)/2"
   ]
  },
  {
   "cell_type": "code",
   "execution_count": 53,
   "id": "0507c3f1",
   "metadata": {
    "tags": []
   },
   "outputs": [],
   "source": [
    "x = np.array([1,2,3])"
   ]
  },
  {
   "cell_type": "code",
   "execution_count": 57,
   "id": "3b2f039d-4d04-412f-8422-178672c86278",
   "metadata": {
    "tags": []
   },
   "outputs": [
    {
     "data": {
      "text/plain": [
       "array([[ 3,  6,  9],\n",
       "       [ 4,  8, 12],\n",
       "       [ 5, 10, 15]])"
      ]
     },
     "execution_count": 57,
     "metadata": {},
     "output_type": "execute_result"
    }
   ],
   "source": [
    "x*np.array([3,4,5]).reshape(3,1)"
   ]
  },
  {
   "cell_type": "code",
   "execution_count": 58,
   "id": "f2210809-e1e1-47b6-9e40-82c256864b00",
   "metadata": {
    "tags": []
   },
   "outputs": [
    {
     "data": {
      "text/plain": [
       "array([2, 2, 2, 2])"
      ]
     },
     "execution_count": 58,
     "metadata": {},
     "output_type": "execute_result"
    }
   ],
   "source": [
    "y=np.array([1,1,1,1])\n",
    "np.array([1])+y"
   ]
  },
  {
   "cell_type": "code",
   "execution_count": 1,
   "id": "964e72a6-5ca8-4897-83ed-4325237b2d74",
   "metadata": {
    "tags": []
   },
   "outputs": [],
   "source": [
    "import matplotlib.pyplot as plt\n",
    "import numpy as np"
   ]
  },
  {
   "cell_type": "code",
   "execution_count": 7,
   "id": "333b7cb2-d963-4901-8e11-0da405f78382",
   "metadata": {
    "tags": []
   },
   "outputs": [
    {
     "data": {
      "text/plain": [
       "<matplotlib.image.AxesImage at 0x7fd8fb12fe50>"
      ]
     },
     "execution_count": 7,
     "metadata": {},
     "output_type": "execute_result"
    },
    {
     "data": {
      "image/png": "[encoded data removed]",
      "text/plain": [
       "<Figure size 640x480 with 1 Axes>"
      ]
     },
     "metadata": {},
     "output_type": "display_data"
    }
   ],
   "source": [
    "i = np.array([ [[1,1,1],[150,50,100],[23,23,23]]*50\n",
    "              ,[[0,0,0],[15,50,5],[220,200,200]]*50\n",
    "              ,[[200,0,0],[123,123,123],[20,50,250]]*50\n",
    "             ]*50)\n",
    "plt.imshow(i)"
   ]
  },
  {
   "cell_type": "code",
   "execution_count": 68,
   "id": "48562cee-009a-4b11-9b95-7b24af44b3b6",
   "metadata": {
    "tags": []
   },
   "outputs": [
    {
     "name": "stdout",
     "output_type": "stream",
     "text": [
      "Requirement already satisfied: h5py in /home/amin/anaconda3/lib/python3.11/site-packages (3.7.0)\n",
      "Requirement already satisfied: numpy>=1.14.5 in /home/amin/anaconda3/lib/python3.11/site-packages (from h5py) (1.24.3)\n"
     ]
    }
   ],
   "source": [
    "!pip install h5py"
   ]
  },
  {
   "cell_type": "code",
   "execution_count": 69,
   "id": "a2948167-b35a-4ae6-ba06-34c82aa56d50",
   "metadata": {
    "tags": []
   },
   "outputs": [],
   "source": [
    "import pandas as pd"
   ]
  },
  {
   "cell_type": "code",
   "execution_count": 70,
   "id": "b67393ed-fcd0-44ac-80da-62b18d9e1d6f",
   "metadata": {
    "tags": []
   },
   "outputs": [],
   "source": [
    "filename = 'test.h5'"
   ]
  },
  {
   "cell_type": "code",
   "execution_count": 71,
   "id": "5eab3674-1d1d-4b53-a21a-0bd60407a96b",
   "metadata": {
    "tags": []
   },
   "outputs": [],
   "source": [
    "df = pd.DataFrame(np.arange(10).reshape((5,2)),columns=['A','B'])"
   ]
  },
  {
   "cell_type": "code",
   "execution_count": 72,
   "id": "c160c363-0e68-4a80-9944-e6225d5c921c",
   "metadata": {
    "tags": []
   },
   "outputs": [
    {
     "data": {
      "text/html": [
       "<div>\n",
       "<style scoped>\n",
       "    .dataframe tbody tr th:only-of-type {\n",
       "        vertical-align: middle;\n",
       "    }\n",
       "\n",
       "    .dataframe tbody tr th {\n",
       "        vertical-align: top;\n",
       "    }\n",
       "\n",
       "    .dataframe thead th {\n",
       "        text-align: right;\n",
       "    }\n",
       "</style>\n",
       "<table border=\"1\" class=\"dataframe\">\n",
       "  <thead>\n",
       "    <tr style=\"text-align: right;\">\n",
       "      <th></th>\n",
       "      <th>A</th>\n",
       "      <th>B</th>\n",
       "    </tr>\n",
       "  </thead>\n",
       "  <tbody>\n",
       "    <tr>\n",
       "      <th>0</th>\n",
       "      <td>0</td>\n",
       "      <td>1</td>\n",
       "    </tr>\n",
       "    <tr>\n",
       "      <th>1</th>\n",
       "      <td>2</td>\n",
       "      <td>3</td>\n",
       "    </tr>\n",
       "    <tr>\n",
       "      <th>2</th>\n",
       "      <td>4</td>\n",
       "      <td>5</td>\n",
       "    </tr>\n",
       "    <tr>\n",
       "      <th>3</th>\n",
       "      <td>6</td>\n",
       "      <td>7</td>\n",
       "    </tr>\n",
       "    <tr>\n",
       "      <th>4</th>\n",
       "      <td>8</td>\n",
       "      <td>9</td>\n",
       "    </tr>\n",
       "  </tbody>\n",
       "</table>\n",
       "</div>"
      ],
      "text/plain": [
       "   A  B\n",
       "0  0  1\n",
       "1  2  3\n",
       "2  4  5\n",
       "3  6  7\n",
       "4  8  9"
      ]
     },
     "execution_count": 72,
     "metadata": {},
     "output_type": "execute_result"
    }
   ],
   "source": [
    "df"
   ]
  },
  {
   "cell_type": "code",
   "execution_count": 73,
   "id": "72486525-255a-49c6-a0b6-9e0e41893342",
   "metadata": {
    "tags": []
   },
   "outputs": [],
   "source": [
    "df.to_hdf(filename,'data',mode = 'w', format= 'table')"
   ]
  },
  {
   "cell_type": "code",
   "execution_count": 74,
   "id": "0f3d4fde-ecc3-4bc9-9537-66f0c9b61a95",
   "metadata": {
    "tags": []
   },
   "outputs": [],
   "source": [
    "del df"
   ]
  },
  {
   "cell_type": "code",
   "execution_count": 75,
   "id": "1a2a9b91-b886-4d4a-84bc-b28d13e0259f",
   "metadata": {
    "tags": []
   },
   "outputs": [],
   "source": [
    "df2 = pd.DataFrame(np.arange(10).reshape(5,2)*10,columns=['A','B'])"
   ]
  },
  {
   "cell_type": "code",
   "execution_count": 76,
   "id": "3d958dfd-58d4-4f70-b9c2-aaf04160153e",
   "metadata": {
    "tags": []
   },
   "outputs": [
    {
     "data": {
      "text/html": [
       "<div>\n",
       "<style scoped>\n",
       "    .dataframe tbody tr th:only-of-type {\n",
       "        vertical-align: middle;\n",
       "    }\n",
       "\n",
       "    .dataframe tbody tr th {\n",
       "        vertical-align: top;\n",
       "    }\n",
       "\n",
       "    .dataframe thead th {\n",
       "        text-align: right;\n",
       "    }\n",
       "</style>\n",
       "<table border=\"1\" class=\"dataframe\">\n",
       "  <thead>\n",
       "    <tr style=\"text-align: right;\">\n",
       "      <th></th>\n",
       "      <th>A</th>\n",
       "      <th>B</th>\n",
       "    </tr>\n",
       "  </thead>\n",
       "  <tbody>\n",
       "    <tr>\n",
       "      <th>0</th>\n",
       "      <td>0</td>\n",
       "      <td>10</td>\n",
       "    </tr>\n",
       "    <tr>\n",
       "      <th>1</th>\n",
       "      <td>20</td>\n",
       "      <td>30</td>\n",
       "    </tr>\n",
       "    <tr>\n",
       "      <th>2</th>\n",
       "      <td>40</td>\n",
       "      <td>50</td>\n",
       "    </tr>\n",
       "    <tr>\n",
       "      <th>3</th>\n",
       "      <td>60</td>\n",
       "      <td>70</td>\n",
       "    </tr>\n",
       "    <tr>\n",
       "      <th>4</th>\n",
       "      <td>80</td>\n",
       "      <td>90</td>\n",
       "    </tr>\n",
       "  </tbody>\n",
       "</table>\n",
       "</div>"
      ],
      "text/plain": [
       "    A   B\n",
       "0   0  10\n",
       "1  20  30\n",
       "2  40  50\n",
       "3  60  70\n",
       "4  80  90"
      ]
     },
     "execution_count": 76,
     "metadata": {},
     "output_type": "execute_result"
    }
   ],
   "source": [
    "df2"
   ]
  },
  {
   "cell_type": "code",
   "execution_count": 77,
   "id": "68816a1e-bd4c-4254-9eed-ca81ba5ef351",
   "metadata": {
    "tags": []
   },
   "outputs": [],
   "source": [
    "df2.to_hdf(filename,'data',append=True)"
   ]
  },
  {
   "cell_type": "code",
   "execution_count": 78,
   "id": "88d64683-827b-45cc-b9c8-e953cc94f9f4",
   "metadata": {
    "tags": []
   },
   "outputs": [
    {
     "name": "stdout",
     "output_type": "stream",
     "text": [
      "    A   B\n",
      "0   0   1\n",
      "1   2   3\n",
      "2   4   5\n",
      "3   6   7\n",
      "4   8   9\n",
      "0   0  10\n",
      "1  20  30\n",
      "2  40  50\n",
      "3  60  70\n",
      "4  80  90\n"
     ]
    }
   ],
   "source": [
    "print(pd.read_hdf(filename,'data'))"
   ]
  },
  {
   "cell_type": "code",
   "execution_count": 79,
   "id": "2ab11888-b17b-469d-8459-de917fbd5eec",
   "metadata": {
    "tags": []
   },
   "outputs": [],
   "source": [
    "v = np.array([1,-5,3,2,4])"
   ]
  },
  {
   "cell_type": "code",
   "execution_count": 103,
   "id": "e4a39165-a14b-4306-b6f2-469bdeae4ef5",
   "metadata": {
    "tags": []
   },
   "outputs": [],
   "source": [
    "from numpy.linalg import norm,inv,det,cond,matrix_rank"
   ]
  },
  {
   "cell_type": "code",
   "execution_count": 104,
   "id": "1407c2f3-4b9a-4d88-9c02-95cf348cb286",
   "metadata": {
    "tags": []
   },
   "outputs": [],
   "source": [
    "norm_1 = norm(v,2)"
   ]
  },
  {
   "cell_type": "code",
   "execution_count": 105,
   "id": "4d05d076-d8a0-43d0-b2b7-c55e8eba0bba",
   "metadata": {
    "tags": []
   },
   "outputs": [
    {
     "data": {
      "text/plain": [
       "7.416198487095663"
      ]
     },
     "execution_count": 105,
     "metadata": {},
     "output_type": "execute_result"
    }
   ],
   "source": [
    "norm_1"
   ]
  },
  {
   "cell_type": "code",
   "execution_count": 106,
   "id": "010fdf6d-4c6d-4318-abcd-46ad2c132681",
   "metadata": {
    "tags": []
   },
   "outputs": [],
   "source": [
    "m = np.array([[1,2],[4,5]])"
   ]
  },
  {
   "cell_type": "code",
   "execution_count": 107,
   "id": "3ce36dcc-8e71-4029-a017-f08ac988b866",
   "metadata": {
    "tags": []
   },
   "outputs": [
    {
     "data": {
      "text/plain": [
       "-2.9999999999999996"
      ]
     },
     "execution_count": 107,
     "metadata": {},
     "output_type": "execute_result"
    }
   ],
   "source": [
    "det(m)"
   ]
  },
  {
   "cell_type": "code",
   "execution_count": 108,
   "id": "8350ec30-4266-447c-bef4-15d39f8d1ef6",
   "metadata": {
    "tags": []
   },
   "outputs": [
    {
     "data": {
      "text/plain": [
       "array([[-1.66666667,  0.66666667],\n",
       "       [ 1.33333333, -0.33333333]])"
      ]
     },
     "execution_count": 108,
     "metadata": {},
     "output_type": "execute_result"
    }
   ],
   "source": [
    "inv(m)"
   ]
  },
  {
   "cell_type": "code",
   "execution_count": 109,
   "id": "a35ff6c9-7ee2-47e2-b0e4-099ddd249fa2",
   "metadata": {
    "tags": []
   },
   "outputs": [
    {
     "data": {
      "text/plain": [
       "array([[1., 0.],\n",
       "       [0., 1.]])"
      ]
     },
     "execution_count": 109,
     "metadata": {},
     "output_type": "execute_result"
    }
   ],
   "source": [
    "inv(m).dot(m)"
   ]
  },
  {
   "cell_type": "code",
   "execution_count": 111,
   "id": "c88e2aac-378e-4d96-acf6-f5639bfd57c6",
   "metadata": {
    "tags": []
   },
   "outputs": [
    {
     "data": {
      "text/plain": [
       "15.26783616732758"
      ]
     },
     "execution_count": 111,
     "metadata": {},
     "output_type": "execute_result"
    }
   ],
   "source": [
    "cond(m)"
   ]
  },
  {
   "cell_type": "code",
   "execution_count": 112,
   "id": "18b8d78e-d12e-4b7d-ad3b-fb2f5456348f",
   "metadata": {
    "tags": []
   },
   "outputs": [
    {
     "data": {
      "text/plain": [
       "2"
      ]
     },
     "execution_count": 112,
     "metadata": {},
     "output_type": "execute_result"
    }
   ],
   "source": [
    "matrix_rank(m)"
   ]
  },
  {
   "cell_type": "code",
   "execution_count": 113,
   "id": "c4628fbb-1187-466d-ab7c-b65f05cf3bfa",
   "metadata": {
    "tags": []
   },
   "outputs": [],
   "source": [
    "from numpy.linalg import inv\n",
    "from scipy.linalg import lu"
   ]
  },
  {
   "cell_type": "markdown",
   "id": "caf3a2a3-5ad3-498f-8f9d-fb7b80f1a252",
   "metadata": {},
   "source": [
    "# LU decomposition"
   ]
  },
  {
   "cell_type": "code",
   "execution_count": 114,
   "id": "64e5410f-d63c-4c80-b0b2-bdfa849ffdae",
   "metadata": {
    "tags": []
   },
   "outputs": [
    {
     "name": "stdout",
     "output_type": "stream",
     "text": [
      "Help on function lu in module scipy.linalg._decomp_lu:\n",
      "\n",
      "lu(a, permute_l=False, overwrite_a=False, check_finite=True)\n",
      "    Compute pivoted LU decomposition of a matrix.\n",
      "    \n",
      "    The decomposition is::\n",
      "    \n",
      "        A = P L U\n",
      "    \n",
      "    where P is a permutation matrix, L lower triangular with unit\n",
      "    diagonal elements, and U upper triangular.\n",
      "    \n",
      "    Parameters\n",
      "    ----------\n",
      "    a : (M, N) array_like\n",
      "        Array to decompose\n",
      "    permute_l : bool, optional\n",
      "        Perform the multiplication P*L (Default: do not permute)\n",
      "    overwrite_a : bool, optional\n",
      "        Whether to overwrite data in a (may improve performance)\n",
      "    check_finite : bool, optional\n",
      "        Whether to check that the input matrix contains only finite numbers.\n",
      "        Disabling may give a performance gain, but may result in problems\n",
      "        (crashes, non-termination) if the inputs do contain infinities or NaNs.\n",
      "    \n",
      "    Returns\n",
      "    -------\n",
      "    **(If permute_l == False)**\n",
      "    \n",
      "    p : (M, M) ndarray\n",
      "        Permutation matrix\n",
      "    l : (M, K) ndarray\n",
      "        Lower triangular or trapezoidal matrix with unit diagonal.\n",
      "        K = min(M, N)\n",
      "    u : (K, N) ndarray\n",
      "        Upper triangular or trapezoidal matrix\n",
      "    \n",
      "    **(If permute_l == True)**\n",
      "    \n",
      "    pl : (M, K) ndarray\n",
      "        Permuted L matrix.\n",
      "        K = min(M, N)\n",
      "    u : (K, N) ndarray\n",
      "        Upper triangular or trapezoidal matrix\n",
      "    \n",
      "    Notes\n",
      "    -----\n",
      "    This is a LU factorization routine written for SciPy.\n",
      "    \n",
      "    Examples\n",
      "    --------\n",
      "    >>> import numpy as np\n",
      "    >>> from scipy.linalg import lu\n",
      "    >>> A = np.array([[2, 5, 8, 7], [5, 2, 2, 8], [7, 5, 6, 6], [5, 4, 4, 8]])\n",
      "    >>> p, l, u = lu(A)\n",
      "    >>> np.allclose(A - p @ l @ u, np.zeros((4, 4)))\n",
      "    True\n",
      "\n"
     ]
    }
   ],
   "source": [
    "help(lu)"
   ]
  },
  {
   "cell_type": "markdown",
   "id": "6aae638f-877a-4c48-be74-f58a140dc036",
   "metadata": {},
   "source": [
    "### 8x1+3x2-3x3 = 14\n",
    "### -2x1 -8x2 +5x3 =5\n",
    "### 3x1+5x2+10x3=-8"
   ]
  },
  {
   "cell_type": "code",
   "execution_count": 162,
   "id": "1919e887-138d-40ea-bfc5-83e0f8d60a65",
   "metadata": {
    "tags": []
   },
   "outputs": [],
   "source": [
    "A = np.array([ [8 , 3,-3],\n",
    "      [-2,-8, 5],\n",
    "      [ 3, 5,10]\n",
    "    ])"
   ]
  },
  {
   "cell_type": "code",
   "execution_count": 163,
   "id": "e7204d84-5da4-4d51-92d2-a684f2708962",
   "metadata": {
    "tags": []
   },
   "outputs": [],
   "source": [
    "P,L,U = lu(A)"
   ]
  },
  {
   "cell_type": "code",
   "execution_count": 164,
   "id": "26556c08-0f1c-4f5a-99bd-8d088b4a9120",
   "metadata": {
    "tags": []
   },
   "outputs": [
    {
     "data": {
      "text/plain": [
       "array([[ 8.,  3., -3.],\n",
       "       [-2., -8.,  5.],\n",
       "       [ 3.,  5., 10.]])"
      ]
     },
     "execution_count": 164,
     "metadata": {},
     "output_type": "execute_result"
    }
   ],
   "source": [
    "L.dot(U)"
   ]
  },
  {
   "cell_type": "code",
   "execution_count": 165,
   "id": "a120cddc-c4af-4abb-a73f-b42344e6a4f3",
   "metadata": {
    "tags": []
   },
   "outputs": [],
   "source": [
    "L = P.dot(L)"
   ]
  },
  {
   "cell_type": "code",
   "execution_count": 166,
   "id": "02a8025e-4c56-4348-8947-264e8929e388",
   "metadata": {
    "tags": []
   },
   "outputs": [
    {
     "data": {
      "text/plain": [
       "array([[1., 0., 0.],\n",
       "       [0., 1., 0.],\n",
       "       [0., 0., 1.]])"
      ]
     },
     "execution_count": 166,
     "metadata": {},
     "output_type": "execute_result"
    }
   ],
   "source": [
    "P"
   ]
  },
  {
   "cell_type": "code",
   "execution_count": 167,
   "id": "7ccd9db3-adf2-464e-807b-4da9e4d9b401",
   "metadata": {
    "tags": []
   },
   "outputs": [
    {
     "data": {
      "text/plain": [
       "array([[ True,  True,  True],\n",
       "       [ True,  True,  True],\n",
       "       [ True,  True,  True]])"
      ]
     },
     "execution_count": 167,
     "metadata": {},
     "output_type": "execute_result"
    }
   ],
   "source": [
    "L.dot(U) == A"
   ]
  },
  {
   "cell_type": "code",
   "execution_count": 169,
   "id": "5cedd79b-0a5f-49b6-bfa6-8e1079196882",
   "metadata": {
    "tags": []
   },
   "outputs": [
    {
     "data": {
      "text/plain": [
       "True"
      ]
     },
     "execution_count": 169,
     "metadata": {},
     "output_type": "execute_result"
    }
   ],
   "source": [
    "np.allclose(L.dot(U),A)"
   ]
  },
  {
   "cell_type": "code",
   "execution_count": 170,
   "id": "eaa8058d-6160-4f51-97c4-27a9c65aff3e",
   "metadata": {
    "tags": []
   },
   "outputs": [],
   "source": [
    "y = np.array([14,5,-8])"
   ]
  },
  {
   "cell_type": "code",
   "execution_count": 171,
   "id": "c9f4d239-b758-47f2-886a-a2da428e37ec",
   "metadata": {
    "tags": []
   },
   "outputs": [],
   "source": [
    "m = inv(L).dot(y)"
   ]
  },
  {
   "cell_type": "code",
   "execution_count": 172,
   "id": "b0cef8e9-2925-4b95-81d1-c1205c22a4ba",
   "metadata": {
    "tags": []
   },
   "outputs": [
    {
     "data": {
      "text/plain": [
       "array([14.        ,  8.5       , -8.70689655])"
      ]
     },
     "execution_count": 172,
     "metadata": {},
     "output_type": "execute_result"
    }
   ],
   "source": [
    "m"
   ]
  },
  {
   "cell_type": "code",
   "execution_count": 173,
   "id": "ab4280f6-3eb1-4a96-ac6c-35853da96da3",
   "metadata": {
    "tags": []
   },
   "outputs": [],
   "source": [
    "x = inv(U).dot(m)"
   ]
  },
  {
   "cell_type": "code",
   "execution_count": 174,
   "id": "57f7d0e7-b0e9-40f0-81cf-626006df7ff9",
   "metadata": {
    "tags": []
   },
   "outputs": [],
   "source": [
    "x = np.array(x)"
   ]
  },
  {
   "cell_type": "code",
   "execution_count": 150,
   "id": "4fb4790b-8cfc-4d75-877a-e92dd627bd07",
   "metadata": {
    "tags": []
   },
   "outputs": [
    {
     "data": {
      "text/plain": [
       "array([14.,  5., -8.])"
      ]
     },
     "execution_count": 150,
     "metadata": {},
     "output_type": "execute_result"
    }
   ],
   "source": [
    "A.dot(x)"
   ]
  },
  {
   "cell_type": "code",
   "execution_count": 175,
   "id": "1144c0f8-91bb-41a3-a101-7b0399839abc",
   "metadata": {
    "tags": []
   },
   "outputs": [
    {
     "data": {
      "text/plain": [
       "array([ 2.08880309, -1.55341055, -0.64993565])"
      ]
     },
     "execution_count": 175,
     "metadata": {},
     "output_type": "execute_result"
    }
   ],
   "source": [
    "x"
   ]
  },
  {
   "cell_type": "code",
   "execution_count": 177,
   "id": "9b93145b-e5d8-4069-8eda-2fdeb7c48f58",
   "metadata": {
    "tags": []
   },
   "outputs": [],
   "source": [
    "\n",
    "x1 = 0\n",
    "x2 = 0\n",
    "x3 = 0"
   ]
  },
  {
   "cell_type": "code",
   "execution_count": 178,
   "id": "5f8a679a-09bd-4979-b5fc-dbd3287be413",
   "metadata": {
    "tags": []
   },
   "outputs": [],
   "source": [
    "diag = np.diag(np.abs(A))"
   ]
  },
  {
   "cell_type": "code",
   "execution_count": 179,
   "id": "d3cdd69a-3929-44b3-84ea-5d16d0d26351",
   "metadata": {
    "tags": []
   },
   "outputs": [
    {
     "data": {
      "text/plain": [
       "array([ 8,  8, 10])"
      ]
     },
     "execution_count": 179,
     "metadata": {},
     "output_type": "execute_result"
    }
   ],
   "source": [
    "diag"
   ]
  },
  {
   "cell_type": "code",
   "execution_count": 180,
   "id": "463538a4-0c75-47c3-aea2-eecd47876340",
   "metadata": {
    "tags": []
   },
   "outputs": [],
   "source": [
    "off_diag = np.sum(np.abs(A),axis = 1)-diag"
   ]
  },
  {
   "cell_type": "code",
   "execution_count": 181,
   "id": "f306e18a-236d-41a8-a419-7b13f15dd360",
   "metadata": {
    "tags": []
   },
   "outputs": [
    {
     "data": {
      "text/plain": [
       "array([6, 7, 8])"
      ]
     },
     "execution_count": 181,
     "metadata": {},
     "output_type": "execute_result"
    }
   ],
   "source": [
    "off_diag"
   ]
  },
  {
   "cell_type": "code",
   "execution_count": 182,
   "id": "986570b9-fa11-47b9-be99-0b32792d89ce",
   "metadata": {
    "tags": []
   },
   "outputs": [
    {
     "name": "stdout",
     "output_type": "stream",
     "text": [
      "True\n"
     ]
    }
   ],
   "source": [
    "if np.all(diag > off_diag):\n",
    "    print(True)\n",
    "else:\n",
    "    print(False)"
   ]
  },
  {
   "cell_type": "code",
   "execution_count": 183,
   "id": "0178f920-5fce-4b36-b27a-e86cef6eb38a",
   "metadata": {
    "tags": []
   },
   "outputs": [],
   "source": [
    "epsilon = 0.001\n",
    "converged = False\n",
    "max_iter = 50\n",
    "x_old = np.array([x1,x2,x3])"
   ]
  },
  {
   "cell_type": "code",
   "execution_count": 188,
   "id": "55b436a1-be27-4831-8583-888586ac563a",
   "metadata": {
    "tags": []
   },
   "outputs": [],
   "source": [
    "for k in range(1,max_iter):\n",
    "    x1 = (14 -3*x2 + 3*x3)/8\n",
    "    x2 = (-2*x1 - 5 +5*x3)/(8)\n",
    "    x3 = (-8 - 3*x1 -5*x2)/10\n",
    "    x = np.array([x1,x2,x3])\n",
    "    dx = np.sqrt(np.dot(x-x_old,x-x_old))\n",
    "    if dx < epsilon:\n",
    "        break"
   ]
  },
  {
   "cell_type": "code",
   "execution_count": 189,
   "id": "8662f7bc-b35a-42d9-9456-452a95f8ec72",
   "metadata": {
    "tags": []
   },
   "outputs": [
    {
     "data": {
      "text/plain": [
       "array([ 2.08880309, -1.55341055, -0.64993565])"
      ]
     },
     "execution_count": 189,
     "metadata": {},
     "output_type": "execute_result"
    }
   ],
   "source": [
    "x"
   ]
  },
  {
   "cell_type": "markdown",
   "id": "9d297d26-e9d2-4907-a5ce-2374a188c813",
   "metadata": {},
   "source": [
    "# Bisection Method"
   ]
  },
  {
   "cell_type": "code",
   "execution_count": 191,
   "id": "c0d5efc7-9fb1-4a53-9276-fdc5fa4f71f1",
   "metadata": {
    "tags": []
   },
   "outputs": [],
   "source": [
    "def f(x):\n",
    "    return x**2 - 36"
   ]
  },
  {
   "cell_type": "code",
   "execution_count": 263,
   "id": "0d4c49f7-e3bc-4ae7-a29c-a6ec6a0cc0b4",
   "metadata": {
    "tags": []
   },
   "outputs": [
    {
     "name": "stdout",
     "output_type": "stream",
     "text": [
      "-35\n",
      "9964\n"
     ]
    }
   ],
   "source": [
    "a = 1\n",
    "b = 100\n",
    "print(f(a))\n",
    "print(f(b))"
   ]
  },
  {
   "cell_type": "code",
   "execution_count": 264,
   "id": "ff1390d7-19b8-4e08-9328-e46f33e4302b",
   "metadata": {
    "tags": []
   },
   "outputs": [
    {
     "name": "stdout",
     "output_type": "stream",
     "text": [
      "50.5\n"
     ]
    }
   ],
   "source": [
    "p = (a+b)/2\n",
    "if f(p)*f(a) > 0:\n",
    "    a = p\n",
    "elif f(p)*f(b) > 0:\n",
    "    b = p\n",
    "\n",
    "print(p)"
   ]
  },
  {
   "cell_type": "code",
   "execution_count": 295,
   "id": "e3189624-6417-4cce-a086-7aa0cd5a6630",
   "metadata": {
    "tags": []
   },
   "outputs": [
    {
     "name": "stdout",
     "output_type": "stream",
     "text": [
      "6.000000041443855\n"
     ]
    }
   ],
   "source": [
    "p = (a+b)/2\n",
    "if f(p)*f(a) > 0:\n",
    "    a = p\n",
    "elif f(p)*f(b) > 0:\n",
    "    b = p\n",
    "\n",
    "print(p)"
   ]
  },
  {
   "cell_type": "code",
   "execution_count": 296,
   "id": "a79fcc7e-d9d2-46d5-a134-3c3fdbcd41f2",
   "metadata": {
    "tags": []
   },
   "outputs": [
    {
     "data": {
      "text/plain": [
       "(5.999999995343387, 6.000000041443855)"
      ]
     },
     "execution_count": 296,
     "metadata": {},
     "output_type": "execute_result"
    }
   ],
   "source": [
    "a,b"
   ]
  },
  {
   "cell_type": "markdown",
   "id": "dc5e7224-1427-474e-8d25-80c3071cb6df",
   "metadata": {},
   "source": [
    "# Newtons Method"
   ]
  },
  {
   "cell_type": "code",
   "execution_count": 8,
   "id": "3b1b0021-0ba5-4f9f-98c6-518b9ac33822",
   "metadata": {},
   "outputs": [],
   "source": [
    "def f(x):\n",
    "    return x**2 - 36\n",
    "\n",
    "def fp(x):\n",
    "    return 2*x"
   ]
  },
  {
   "cell_type": "code",
   "execution_count": 9,
   "id": "bcf52666-5f23-421e-96a3-c788ddd0117d",
   "metadata": {},
   "outputs": [],
   "source": [
    "def new_val(x,f,fp):\n",
    "    return x - f(x)/fp(x)"
   ]
  },
  {
   "cell_type": "code",
   "execution_count": 44,
   "id": "fb1fe57e-ce0c-47f3-adc0-e86d39cd722d",
   "metadata": {
    "tags": []
   },
   "outputs": [],
   "source": [
    "x=8.5\n"
   ]
  },
  {
   "cell_type": "code",
   "execution_count": 53,
   "id": "b2137259-0bce-4395-ad45-1677483c4deb",
   "metadata": {
    "tags": []
   },
   "outputs": [],
   "source": [
    "x=new_val(x,f,fp)"
   ]
  },
  {
   "cell_type": "code",
   "execution_count": 54,
   "id": "c7801015-fe17-42d6-b967-a92d014e2eb4",
   "metadata": {
    "tags": []
   },
   "outputs": [
    {
     "name": "stdout",
     "output_type": "stream",
     "text": [
      "6.0\n"
     ]
    }
   ],
   "source": [
    "print(x)"
   ]
  },
  {
   "cell_type": "markdown",
   "id": "f50404ee-f813-430a-aa18-21b575dee29d",
   "metadata": {},
   "source": [
    "# Interpolation method"
   ]
  },
  {
   "cell_type": "code",
   "execution_count": 12,
   "id": "c916d63f-2492-4236-b8a9-45ffc52c1acd",
   "metadata": {
    "tags": []
   },
   "outputs": [],
   "source": [
    "import matplotlib.pyplot as plt\n",
    "from scipy.interpolate import interp1d\n",
    "import numpy as np"
   ]
  },
  {
   "cell_type": "code",
   "execution_count": 13,
   "id": "ba952f7e-a43d-4e54-a7d3-ebe1ff34ebc4",
   "metadata": {
    "tags": []
   },
   "outputs": [],
   "source": [
    "x= [0,1,2]\n",
    "y=[1,3,2]"
   ]
  },
  {
   "cell_type": "code",
   "execution_count": 14,
   "id": "d56be88a-7f3f-49e5-bacf-3596a6feff83",
   "metadata": {
    "tags": []
   },
   "outputs": [
    {
     "data": {
      "text/plain": [
       "[<matplotlib.lines.Line2D at 0x7f642410d410>]"
      ]
     },
     "execution_count": 14,
     "metadata": {},
     "output_type": "execute_result"
    },
    {
     "data": {
      "image/png": "[encoded data removed]",
      "text/plain": [
       "<Figure size 640x480 with 1 Axes>"
      ]
     },
     "metadata": {},
     "output_type": "display_data"
    }
   ],
   "source": [
    "plt.plot(x,y,'o')"
   ]
  },
  {
   "cell_type": "code",
   "execution_count": 15,
   "id": "785e4443-8b70-4074-b52b-751c9fbc57b2",
   "metadata": {
    "tags": []
   },
   "outputs": [],
   "source": [
    "f=interp1d(x,y)"
   ]
  },
  {
   "cell_type": "code",
   "execution_count": 16,
   "id": "ef6a1bab-494f-4d88-ac8b-3df334949ef6",
   "metadata": {
    "tags": []
   },
   "outputs": [],
   "source": [
    "y_hat=f(1.5)"
   ]
  },
  {
   "cell_type": "code",
   "execution_count": 17,
   "id": "962f9d5b-7b6c-4954-90d8-9a5169a97dd7",
   "metadata": {
    "tags": []
   },
   "outputs": [
    {
     "name": "stdout",
     "output_type": "stream",
     "text": [
      "2.5\n"
     ]
    }
   ],
   "source": [
    "print(y_hat)"
   ]
  },
  {
   "cell_type": "code",
   "execution_count": 18,
   "id": "ae24d9a1-6f10-4e46-9dec-716a75761209",
   "metadata": {
    "tags": []
   },
   "outputs": [
    {
     "data": {
      "image/png": "[encoded data removed]",
      "text/plain": [
       "<Figure size 640x480 with 1 Axes>"
      ]
     },
     "metadata": {},
     "output_type": "display_data"
    }
   ],
   "source": [
    "plt.plot(x+[1.5],y+[y_hat],marker='o')\n",
    "plt.show()"
   ]
  },
  {
   "cell_type": "code",
   "execution_count": 19,
   "id": "7ce571da-9dd1-4bc1-abc6-2e8cf10df23c",
   "metadata": {
    "tags": []
   },
   "outputs": [],
   "source": [
    "\n",
    "from scipy.interpolate import CubicSpline"
   ]
  },
  {
   "cell_type": "code",
   "execution_count": 29,
   "id": "a8e992d8-f616-4327-b8ee-34f54dc168ed",
   "metadata": {
    "tags": []
   },
   "outputs": [],
   "source": [
    "f=CubicSpline(x,y,bc_type='natural')\n",
    "f1=CubicSpline(x,y)"
   ]
  },
  {
   "cell_type": "code",
   "execution_count": 30,
   "id": "d2104614-cc67-48ef-9d15-3a8034481e48",
   "metadata": {
    "tags": []
   },
   "outputs": [],
   "source": [
    "x_new = np.linspace(0,2,100)\n",
    "y_new = f1(x_new)\n",
    "y_new1 = f(x_new)"
   ]
  },
  {
   "cell_type": "code",
   "execution_count": 31,
   "id": "6913fcd2-8e6d-407f-812b-ba55e8aa67ad",
   "metadata": {
    "tags": []
   },
   "outputs": [
    {
     "data": {
      "image/png": "[encoded data removed]",
      "text/plain": [
       "<Figure size 640x480 with 1 Axes>"
      ]
     },
     "metadata": {},
     "output_type": "display_data"
    }
   ],
   "source": [
    "plt.plot(x+[1.5],y+[y_hat],marker='o')\n",
    "plt.plot(x_new,y_new)\n",
    "plt.plot(x_new,y_new1)\n",
    "plt.legend(['basic','cubic','normal'])\n",
    "plt.show()"
   ]
  },
  {
   "cell_type": "markdown",
   "id": "76ca4a31-d3c2-4226-8484-f993a1a84c51",
   "metadata": {},
   "source": [
    "# interpolation table"
   ]
  },
  {
   "cell_type": "code",
   "execution_count": null,
   "id": "221f40e9-0c9f-4787-b18a-cbc8ae4a6452",
   "metadata": {},
   "outputs": [],
   "source": []
  }
 ],
 "metadata": {
  "kernelspec": {
   "display_name": "Python 3 (ipykernel)",
   "language": "python",
   "name": "python3"
  },
  "language_info": {
   "codemirror_mode": {
    "name": "ipython",
    "version": 3
   },
   "file_extension": ".py",
   "mimetype": "text/x-python",
   "name": "python",
   "nbconvert_exporter": "python",
   "pygments_lexer": "ipython3",
   "version": "3.11.4"
  }
 },
 "nbformat": 4,
 "nbformat_minor": 5
}
